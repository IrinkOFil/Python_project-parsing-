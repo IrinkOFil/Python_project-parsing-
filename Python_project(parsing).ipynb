{
 "cells": [
  {
   "cell_type": "markdown",
   "metadata": {
    "id": "Nk4Zxy4hHzts"
   },
   "source": [
    "# Parsing basics"
   ]
  },
  {
   "cell_type": "markdown",
   "metadata": {},
   "source": [
    "## Objectives\n",
    "\n",
    "*   write a function that will be based on a site search\n",
    "*   based on the materials included in the search results for all keywords, return a dataframe\n"
   ]
  },
  {
   "cell_type": "code",
   "execution_count": 23,
   "metadata": {
    "id": "LIKXLa_v92wx"
   },
   "outputs": [],
   "source": [
    "#import all required libraries\n",
    "import requests\n",
    "import time\n",
    "from bs4 import BeautifulSoup\n",
    "import pandas as pd"
   ]
  },
  {
   "cell_type": "code",
   "execution_count": 24,
   "metadata": {
    "id": "1Ih-1-6GkEnH"
   },
   "outputs": [],
   "source": [
    "#make a list of words for search\n",
    "query = ['Java', 'python']"
   ]
  },
  {
   "cell_type": "code",
   "execution_count": 25,
   "metadata": {
    "colab": {
     "base_uri": "https://localhost:8080/"
    },
    "id": "cUhid9bLD-1r",
    "outputId": "320aac3b-e191-4fbe-f956-4fc4e4c1b05f"
   },
   "outputs": [
    {
     "data": {
      "text/plain": [
       "20"
      ]
     },
     "execution_count": 25,
     "metadata": {},
     "output_type": "execute_result"
    }
   ],
   "source": [
    "#this function will take a list of words as a parameter and return a list of the necessary links\n",
    "def get_all_links(query):\n",
    "    URL = 'https://habr.com/ru/search/'\n",
    "    all_refs = []\n",
    "    for word in query:\n",
    "        params = {\n",
    "            'q': word,\n",
    "        }\n",
    "    res = requests.get(URL, params)\n",
    "    time.sleep(0.3) \n",
    "    soup = BeautifulSoup(res.text, 'html.parser')\n",
    "    # find all news blocks:\n",
    "    news_blocks = soup.find_all('div', class_='tm-article-snippet')\n",
    "    # find the text with the link\n",
    "    articles_intro = list(map(lambda x: x.find('h2', class_='tm-article-snippet__title tm-article-snippet__title_h2'), news_blocks))\n",
    "    # find all links\n",
    "    a_list = list(map(lambda x: x.find('a').get('href'), articles_intro))\n",
    "    # create full-fledged links\n",
    "    all_refs += list(map(lambda x: 'https://www.habr.com' + x, a_list))\n",
    "    return all_refs\n",
    "\n",
    "all_links = get_all_links(query)\n",
    "len(all_links)"
   ]
  },
  {
   "cell_type": "code",
   "execution_count": 26,
   "metadata": {
    "id": "MgG7J2s3Xnfc"
   },
   "outputs": [],
   "source": [
    "# this function will take a list of links and return a pandas dataframe with the form: date, title, link to the material\n",
    "def get_habr_news(links):\n",
    "    habr_news = pd.DataFrame()\n",
    "    for link in all_links:\n",
    "        soup = BeautifulSoup(requests.get(link).text, 'html.parser')\n",
    "        # find a news's date\n",
    "        date = pd.to_datetime(soup.find('span', class_='tm-article-snippet__datetime-published').find('time').get('datetime'), dayfirst=True).date()\n",
    "        # find a news's title\n",
    "        title = soup.find('h1', class_='tm-article-snippet__title tm-article-snippet__title_h1').text       \n",
    "        row = {'DATE': date, 'TITLE': title, 'LINK': link}\n",
    "        habr_news = pd.concat([habr_news, pd.DataFrame([row])])  \n",
    "    return habr_news.drop_duplicates()"
   ]
  },
  {
   "cell_type": "code",
   "execution_count": 27,
   "metadata": {
    "colab": {
     "base_uri": "https://localhost:8080/",
     "height": 1000
    },
    "id": "vDrVsvD7gxsN",
    "outputId": "c815b40a-7417-4fc9-f261-a597ef4b60ee"
   },
   "outputs": [
    {
     "data": {
      "text/html": [
       "<div>\n",
       "<style scoped>\n",
       "    .dataframe tbody tr th:only-of-type {\n",
       "        vertical-align: middle;\n",
       "    }\n",
       "\n",
       "    .dataframe tbody tr th {\n",
       "        vertical-align: top;\n",
       "    }\n",
       "\n",
       "    .dataframe thead th {\n",
       "        text-align: right;\n",
       "    }\n",
       "</style>\n",
       "<table border=\"1\" class=\"dataframe\">\n",
       "  <thead>\n",
       "    <tr style=\"text-align: right;\">\n",
       "      <th></th>\n",
       "      <th>DATE</th>\n",
       "      <th>TITLE</th>\n",
       "      <th>LINK</th>\n",
       "    </tr>\n",
       "  </thead>\n",
       "  <tbody>\n",
       "    <tr>\n",
       "      <th>0</th>\n",
       "      <td>2021-12-13</td>\n",
       "      <td>Жаждущим автоматизации: открытый урок «ChatOps...</td>\n",
       "      <td>https://www.habr.com/ru/company/southbridge/ne...</td>\n",
       "    </tr>\n",
       "    <tr>\n",
       "      <th>0</th>\n",
       "      <td>2022-01-20</td>\n",
       "      <td>Курс «Python для инженеров». Старт 3 потока 31...</td>\n",
       "      <td>https://www.habr.com/ru/company/southbridge/ne...</td>\n",
       "    </tr>\n",
       "    <tr>\n",
       "      <th>0</th>\n",
       "      <td>2020-04-21</td>\n",
       "      <td>Вышел Python 2.7.18, последний релиз ветки Pyt...</td>\n",
       "      <td>https://www.habr.com/ru/news/t/498364/</td>\n",
       "    </tr>\n",
       "    <tr>\n",
       "      <th>0</th>\n",
       "      <td>2021-07-06</td>\n",
       "      <td>Python Community Meetup 8/07: видео и материал...</td>\n",
       "      <td>https://www.habr.com/ru/company/raiffeisenbank...</td>\n",
       "    </tr>\n",
       "    <tr>\n",
       "      <th>0</th>\n",
       "      <td>2022-01-13</td>\n",
       "      <td>Открытый урок «Пишем Custom Prometheus Exporte...</td>\n",
       "      <td>https://www.habr.com/ru/company/southbridge/ne...</td>\n",
       "    </tr>\n",
       "    <tr>\n",
       "      <th>0</th>\n",
       "      <td>2020-12-04</td>\n",
       "      <td>Python как компилируемый статически типизирова...</td>\n",
       "      <td>https://www.habr.com/ru/news/t/531402/</td>\n",
       "    </tr>\n",
       "    <tr>\n",
       "      <th>0</th>\n",
       "      <td>2022-03-08</td>\n",
       "      <td>Вышел мартовский релиз расширения Python для V...</td>\n",
       "      <td>https://www.habr.com/ru/news/t/654707/</td>\n",
       "    </tr>\n",
       "    <tr>\n",
       "      <th>0</th>\n",
       "      <td>2020-03-03</td>\n",
       "      <td>В начале этого года Python сместил Java и стал...</td>\n",
       "      <td>https://www.habr.com/ru/company/itsumma/news/t...</td>\n",
       "    </tr>\n",
       "    <tr>\n",
       "      <th>0</th>\n",
       "      <td>2021-11-16</td>\n",
       "      <td>EPAM разработала бесплатный курс по программир...</td>\n",
       "      <td>https://www.habr.com/ru/company/epam_systems/n...</td>\n",
       "    </tr>\n",
       "    <tr>\n",
       "      <th>0</th>\n",
       "      <td>2020-06-03</td>\n",
       "      <td>Вышла версия 0.0.2 snakeware — дистрибутива Li...</td>\n",
       "      <td>https://www.habr.com/ru/news/t/505096/</td>\n",
       "    </tr>\n",
       "    <tr>\n",
       "      <th>0</th>\n",
       "      <td>2020-11-13</td>\n",
       "      <td>Создатель Python Гвидо ван Россум выходит на р...</td>\n",
       "      <td>https://www.habr.com/ru/news/t/527858/</td>\n",
       "    </tr>\n",
       "    <tr>\n",
       "      <th>0</th>\n",
       "      <td>2019-10-31</td>\n",
       "      <td>Создатель Python Гвидо ван Россум ушел из Drop...</td>\n",
       "      <td>https://www.habr.com/ru/news/t/473926/</td>\n",
       "    </tr>\n",
       "    <tr>\n",
       "      <th>0</th>\n",
       "      <td>2021-10-06</td>\n",
       "      <td>Вышел язык программирования Python 3.10.0</td>\n",
       "      <td>https://www.habr.com/ru/news/t/581862/</td>\n",
       "    </tr>\n",
       "    <tr>\n",
       "      <th>0</th>\n",
       "      <td>2021-10-11</td>\n",
       "      <td>Python вышел на первое место рейтинга TIOBE, и...</td>\n",
       "      <td>https://www.habr.com/ru/news/t/582682/</td>\n",
       "    </tr>\n",
       "    <tr>\n",
       "      <th>0</th>\n",
       "      <td>2022-06-03</td>\n",
       "      <td>«Тестирование веб-приложений на Python» — новы...</td>\n",
       "      <td>https://www.habr.com/ru/company/yandex_praktik...</td>\n",
       "    </tr>\n",
       "    <tr>\n",
       "      <th>0</th>\n",
       "      <td>2020-09-16</td>\n",
       "      <td>Астрономам порекомендовали меньше использовать...</td>\n",
       "      <td>https://www.habr.com/ru/news/t/519414/</td>\n",
       "    </tr>\n",
       "    <tr>\n",
       "      <th>0</th>\n",
       "      <td>2022-01-15</td>\n",
       "      <td>Разработчик предложил устроить коммунистическу...</td>\n",
       "      <td>https://www.habr.com/ru/news/t/645777/</td>\n",
       "    </tr>\n",
       "    <tr>\n",
       "      <th>0</th>\n",
       "      <td>2022-05-18</td>\n",
       "      <td>Слёрм запускает 3-дневный интенсив по Python д...</td>\n",
       "      <td>https://www.habr.com/ru/company/southbridge/ne...</td>\n",
       "    </tr>\n",
       "    <tr>\n",
       "      <th>0</th>\n",
       "      <td>2022-03-18</td>\n",
       "      <td>24 марта Слёрм проведёт открытый урок «Первый ...</td>\n",
       "      <td>https://www.habr.com/ru/company/southbridge/ne...</td>\n",
       "    </tr>\n",
       "    <tr>\n",
       "      <th>0</th>\n",
       "      <td>2022-04-22</td>\n",
       "      <td>TechnoMeetsPython. Онлайн митап о Python-разра...</td>\n",
       "      <td>https://www.habr.com/ru/news/t/662437/</td>\n",
       "    </tr>\n",
       "  </tbody>\n",
       "</table>\n",
       "</div>"
      ],
      "text/plain": [
       "         DATE                                              TITLE  \\\n",
       "0  2021-12-13  Жаждущим автоматизации: открытый урок «ChatOps...   \n",
       "0  2022-01-20  Курс «Python для инженеров». Старт 3 потока 31...   \n",
       "0  2020-04-21  Вышел Python 2.7.18, последний релиз ветки Pyt...   \n",
       "0  2021-07-06  Python Community Meetup 8/07: видео и материал...   \n",
       "0  2022-01-13  Открытый урок «Пишем Custom Prometheus Exporte...   \n",
       "0  2020-12-04  Python как компилируемый статически типизирова...   \n",
       "0  2022-03-08  Вышел мартовский релиз расширения Python для V...   \n",
       "0  2020-03-03  В начале этого года Python сместил Java и стал...   \n",
       "0  2021-11-16  EPAM разработала бесплатный курс по программир...   \n",
       "0  2020-06-03  Вышла версия 0.0.2 snakeware — дистрибутива Li...   \n",
       "0  2020-11-13  Создатель Python Гвидо ван Россум выходит на р...   \n",
       "0  2019-10-31  Создатель Python Гвидо ван Россум ушел из Drop...   \n",
       "0  2021-10-06          Вышел язык программирования Python 3.10.0   \n",
       "0  2021-10-11  Python вышел на первое место рейтинга TIOBE, и...   \n",
       "0  2022-06-03  «Тестирование веб-приложений на Python» — новы...   \n",
       "0  2020-09-16  Астрономам порекомендовали меньше использовать...   \n",
       "0  2022-01-15  Разработчик предложил устроить коммунистическу...   \n",
       "0  2022-05-18  Слёрм запускает 3-дневный интенсив по Python д...   \n",
       "0  2022-03-18  24 марта Слёрм проведёт открытый урок «Первый ...   \n",
       "0  2022-04-22  TechnoMeetsPython. Онлайн митап о Python-разра...   \n",
       "\n",
       "                                                LINK  \n",
       "0  https://www.habr.com/ru/company/southbridge/ne...  \n",
       "0  https://www.habr.com/ru/company/southbridge/ne...  \n",
       "0             https://www.habr.com/ru/news/t/498364/  \n",
       "0  https://www.habr.com/ru/company/raiffeisenbank...  \n",
       "0  https://www.habr.com/ru/company/southbridge/ne...  \n",
       "0             https://www.habr.com/ru/news/t/531402/  \n",
       "0             https://www.habr.com/ru/news/t/654707/  \n",
       "0  https://www.habr.com/ru/company/itsumma/news/t...  \n",
       "0  https://www.habr.com/ru/company/epam_systems/n...  \n",
       "0             https://www.habr.com/ru/news/t/505096/  \n",
       "0             https://www.habr.com/ru/news/t/527858/  \n",
       "0             https://www.habr.com/ru/news/t/473926/  \n",
       "0             https://www.habr.com/ru/news/t/581862/  \n",
       "0             https://www.habr.com/ru/news/t/582682/  \n",
       "0  https://www.habr.com/ru/company/yandex_praktik...  \n",
       "0             https://www.habr.com/ru/news/t/519414/  \n",
       "0             https://www.habr.com/ru/news/t/645777/  \n",
       "0  https://www.habr.com/ru/company/southbridge/ne...  \n",
       "0  https://www.habr.com/ru/company/southbridge/ne...  \n",
       "0             https://www.habr.com/ru/news/t/662437/  "
      ]
     },
     "execution_count": 27,
     "metadata": {},
     "output_type": "execute_result"
    }
   ],
   "source": [
    "habr_news = get_habr_news(all_links)\n",
    "habr_news"
   ]
  }
 ],
 "metadata": {
  "colab": {
   "collapsed_sections": [],
   "name": "ДЗ12_Филиппова.ipynb",
   "provenance": []
  },
  "kernelspec": {
   "display_name": "Python 3 (ipykernel)",
   "language": "python",
   "name": "python3"
  },
  "language_info": {
   "codemirror_mode": {
    "name": "ipython",
    "version": 3
   },
   "file_extension": ".py",
   "mimetype": "text/x-python",
   "name": "python",
   "nbconvert_exporter": "python",
   "pygments_lexer": "ipython3",
   "version": "3.9.7"
  }
 },
 "nbformat": 4,
 "nbformat_minor": 1
}
